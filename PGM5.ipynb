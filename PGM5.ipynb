{
  "cells": [
    {
      "cell_type": "code",
      "execution_count": null,
      "id": "bb07d5d6-1aa7-4133-811d-67f31d5e0f18",
      "metadata": {
        "id": "bb07d5d6-1aa7-4133-811d-67f31d5e0f18"
      },
      "outputs": [],
      "source": [
        "import tensorflow as tf\n",
        "from tensorflow.keras import models, layers\n",
        "from keras.datasets import cifar10\n",
        "import numpy as np\n",
        "from tensorflow.keras.utils import to_categorical\n",
        "from keras.models import Sequential\n",
        "from tensorflow.keras.layers import Conv2D, MaxPooling2D, Dense, Flatten"
      ]
    },
    {
      "cell_type": "code",
      "execution_count": null,
      "id": "a0df7112-6bcb-4b93-95bc-49b5c8c233f2",
      "metadata": {
        "id": "a0df7112-6bcb-4b93-95bc-49b5c8c233f2"
      },
      "outputs": [],
      "source": [
        "(X_train, y_train), (X_test, y_test) = cifar10.load_data()"
      ]
    },
    {
      "cell_type": "code",
      "execution_count": null,
      "id": "4d6f0d15-51c3-4786-8975-ca02643021f3",
      "metadata": {
        "id": "4d6f0d15-51c3-4786-8975-ca02643021f3"
      },
      "outputs": [],
      "source": [
        "y_train = to_categorical(y_train, num_classes = 10)\n",
        "y_test = to_categorical(y_test, num_classes = 10)"
      ]
    },
    {
      "cell_type": "code",
      "execution_count": null,
      "id": "86ab976f-df60-49c7-9a6d-7f27cf24f579",
      "metadata": {
        "id": "86ab976f-df60-49c7-9a6d-7f27cf24f579"
      },
      "outputs": [],
      "source": [
        "X_train = X_train.astype('float32')\n",
        "X_test = X_test.astype('float32')\n",
        "\n",
        "X_train /= 255\n",
        "X_test /= 255"
      ]
    },
    {
      "cell_type": "code",
      "execution_count": null,
      "id": "6235a22c-75ac-4c9e-a308-c8a658e0589e",
      "metadata": {
        "id": "6235a22c-75ac-4c9e-a308-c8a658e0589e"
      },
      "outputs": [],
      "source": [
        "model = Sequential()\n",
        "model.add(Conv2D(filters = 25, kernel_size = (3,3), padding = 'same', activation = 'relu', input_shape = (32, 32, 3)))\n",
        "model.add(MaxPooling2D((2, 2)))\n",
        "\n",
        "model.add(Conv2D(filters = 64, kernel_size = (3,3), padding = 'same', activation = 'relu'))\n",
        "model.add(MaxPooling2D((2, 2)))\n",
        "\n",
        "model.add(Conv2D(filters = 64, kernel_size = (3,3), padding = 'same', activation = 'relu'))\n",
        "model.add(MaxPooling2D((2, 2)))\n",
        "\n",
        "model.add(Flatten())\n",
        "model.add(Dense(128, activation = 'relu'))\n",
        "model.add(Dense(10, activation = 'softmax'))"
      ]
    },
    {
      "cell_type": "code",
      "execution_count": null,
      "id": "3fbeb095-5e6a-490d-b14e-52f070b6f898",
      "metadata": {
        "id": "3fbeb095-5e6a-490d-b14e-52f070b6f898"
      },
      "outputs": [],
      "source": [
        "model.compile(loss = 'categorical_crossentropy', optimizer = 'adam', metrics = ['accuracy'])"
      ]
    },
    {
      "cell_type": "code",
      "execution_count": null,
      "id": "26bbe319-2853-46bd-a57f-904ff3eeccaf",
      "metadata": {
        "id": "26bbe319-2853-46bd-a57f-904ff3eeccaf",
        "outputId": "61abe347-a88a-41fc-87f1-512af8d540e2"
      },
      "outputs": [
        {
          "name": "stdout",
          "output_type": "stream",
          "text": [
            "Model: \"sequential_4\"\n",
            "_________________________________________________________________\n",
            " Layer (type)                Output Shape              Param #   \n",
            "=================================================================\n",
            " conv2d_7 (Conv2D)           (None, 32, 32, 25)        700       \n",
            "                                                                 \n",
            " max_pooling2d_6 (MaxPoolin  (None, 16, 16, 25)        0         \n",
            " g2D)                                                            \n",
            "                                                                 \n",
            " conv2d_8 (Conv2D)           (None, 16, 16, 64)        14464     \n",
            "                                                                 \n",
            " max_pooling2d_7 (MaxPoolin  (None, 8, 8, 64)          0         \n",
            " g2D)                                                            \n",
            "                                                                 \n",
            " conv2d_9 (Conv2D)           (None, 8, 8, 64)          36928     \n",
            "                                                                 \n",
            " max_pooling2d_8 (MaxPoolin  (None, 4, 4, 64)          0         \n",
            " g2D)                                                            \n",
            "                                                                 \n",
            " flatten_2 (Flatten)         (None, 1024)              0         \n",
            "                                                                 \n",
            " dense_4 (Dense)             (None, 128)               131200    \n",
            "                                                                 \n",
            " dense_5 (Dense)             (None, 10)                1290      \n",
            "                                                                 \n",
            "=================================================================\n",
            "Total params: 184582 (721.02 KB)\n",
            "Trainable params: 184582 (721.02 KB)\n",
            "Non-trainable params: 0 (0.00 Byte)\n",
            "_________________________________________________________________\n"
          ]
        }
      ],
      "source": [
        "model.summary()"
      ]
    },
    {
      "cell_type": "code",
      "execution_count": null,
      "id": "87f16d1d-c144-4681-b741-7405cfef2298",
      "metadata": {
        "id": "87f16d1d-c144-4681-b741-7405cfef2298",
        "outputId": "3960c3aa-cfb3-44e0-ea9c-1a48eb57feed"
      },
      "outputs": [
        {
          "name": "stdout",
          "output_type": "stream",
          "text": [
            "Epoch 1/15\n",
            "1563/1563 [==============================] - 9s 6ms/step - loss: 1.4540 - accuracy: 0.4774 - val_loss: 1.1526 - val_accuracy: 0.5899\n",
            "Epoch 2/15\n",
            "1563/1563 [==============================] - 9s 6ms/step - loss: 1.0584 - accuracy: 0.6252 - val_loss: 1.0274 - val_accuracy: 0.6379\n",
            "Epoch 3/15\n",
            "1563/1563 [==============================] - 8s 5ms/step - loss: 0.9015 - accuracy: 0.6842 - val_loss: 0.9210 - val_accuracy: 0.6785\n",
            "Epoch 4/15\n",
            "1563/1563 [==============================] - 9s 5ms/step - loss: 0.8053 - accuracy: 0.7157 - val_loss: 0.8745 - val_accuracy: 0.6998\n",
            "Epoch 5/15\n",
            "1563/1563 [==============================] - 9s 5ms/step - loss: 0.7298 - accuracy: 0.7427 - val_loss: 0.8816 - val_accuracy: 0.6999\n",
            "Epoch 6/15\n",
            "1563/1563 [==============================] - 9s 6ms/step - loss: 0.6656 - accuracy: 0.7646 - val_loss: 0.8234 - val_accuracy: 0.7209\n",
            "Epoch 7/15\n",
            "1563/1563 [==============================] - 9s 6ms/step - loss: 0.6050 - accuracy: 0.7866 - val_loss: 0.8455 - val_accuracy: 0.7144\n",
            "Epoch 8/15\n",
            "1563/1563 [==============================] - 9s 6ms/step - loss: 0.5591 - accuracy: 0.8018 - val_loss: 0.8236 - val_accuracy: 0.7297\n",
            "Epoch 9/15\n",
            "1563/1563 [==============================] - 9s 6ms/step - loss: 0.5195 - accuracy: 0.8159 - val_loss: 0.8986 - val_accuracy: 0.7091\n",
            "Epoch 10/15\n",
            "1563/1563 [==============================] - 8s 5ms/step - loss: 0.4703 - accuracy: 0.8352 - val_loss: 0.8728 - val_accuracy: 0.7243\n",
            "Epoch 11/15\n",
            "1563/1563 [==============================] - 9s 6ms/step - loss: 0.4304 - accuracy: 0.8489 - val_loss: 0.8824 - val_accuracy: 0.7329\n",
            "Epoch 12/15\n",
            "1563/1563 [==============================] - 9s 5ms/step - loss: 0.3930 - accuracy: 0.8612 - val_loss: 0.9021 - val_accuracy: 0.7296\n",
            "Epoch 13/15\n",
            "1563/1563 [==============================] - 9s 5ms/step - loss: 0.3577 - accuracy: 0.8726 - val_loss: 0.9706 - val_accuracy: 0.7193\n",
            "Epoch 14/15\n",
            "1563/1563 [==============================] - 8s 5ms/step - loss: 0.3306 - accuracy: 0.8833 - val_loss: 0.9991 - val_accuracy: 0.7305\n",
            "Epoch 15/15\n",
            "1563/1563 [==============================] - 9s 6ms/step - loss: 0.3004 - accuracy: 0.8920 - val_loss: 1.0940 - val_accuracy: 0.7180\n"
          ]
        }
      ],
      "source": [
        "history = model.fit(X_train, y_train, epochs = 15, validation_data = (X_test, y_test))"
      ]
    },
    {
      "cell_type": "code",
      "execution_count": null,
      "id": "f7a7161c-7fd9-42cd-ab85-b13e139e89c4",
      "metadata": {
        "id": "f7a7161c-7fd9-42cd-ab85-b13e139e89c4",
        "outputId": "5baf0c33-6317-4651-c29d-f897b81dd439"
      },
      "outputs": [
        {
          "name": "stdout",
          "output_type": "stream",
          "text": [
            "[1.0940226316452026, 0.7179999947547913]\n"
          ]
        }
      ],
      "source": [
        "score = model.evaluate(X_test, y_test, batch_size = 128, verbose = 0)\n",
        "print(score)"
      ]
    },
    {
      "cell_type": "code",
      "execution_count": null,
      "id": "f09f6763-ecc5-461a-aee2-28ca08141e55",
      "metadata": {
        "id": "f09f6763-ecc5-461a-aee2-28ca08141e55"
      },
      "outputs": [],
      "source": []
    }
  ],
  "metadata": {
    "kernelspec": {
      "display_name": "Python 3 (ipykernel)",
      "language": "python",
      "name": "python3"
    },
    "language_info": {
      "codemirror_mode": {
        "name": "ipython",
        "version": 3
      },
      "file_extension": ".py",
      "mimetype": "text/x-python",
      "name": "python",
      "nbconvert_exporter": "python",
      "pygments_lexer": "ipython3",
      "version": "3.10.12"
    },
    "colab": {
      "provenance": []
    }
  },
  "nbformat": 4,
  "nbformat_minor": 5
}