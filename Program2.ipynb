{
 "cells": [
  {
   "cell_type": "code",
   "execution_count": 76,
   "id": "7d46347b",
   "metadata": {},
   "outputs": [],
   "source": [
    "import pandas as pd\n",
    "import numpy as np\n",
    "import matplotlib.pyplot as plt\n",
    "from keras.layers import Dense, SimpleRNN, LSTM,GRU\n",
    "from keras.models import Sequential\n",
    "from keras.preprocessing.sequence import TimeseriesGenerator\n",
    "from sklearn.preprocessing import MinMaxScaler"
   ]
  },
  {
   "cell_type": "code",
   "execution_count": 77,
   "id": "e1d5907b",
   "metadata": {},
   "outputs": [],
   "source": [
    "df = pd.read_csv(r\"C:\\Users\\Joel\\Dropbox\\My PC (LAPTOP-RQL6K54S)\\Downloads\\Sunspots.csv\", index_col = 'Date', parse_dates=True)"
   ]
  },
  {
   "cell_type": "code",
   "execution_count": 78,
   "id": "f9a16883",
   "metadata": {},
   "outputs": [],
   "source": [
    "scaler = MinMaxScaler(feature_range = (0,1))"
   ]
  },
  {
   "cell_type": "code",
   "execution_count": 79,
   "id": "045c46dd",
   "metadata": {},
   "outputs": [],
   "source": [
    "df = scaler.fit_transform(df).flatten()"
   ]
  },
  {
   "cell_type": "code",
   "execution_count": 80,
   "id": "581f662a",
   "metadata": {},
   "outputs": [],
   "source": [
    "from sklearn.model_selection import train_test_split"
   ]
  },
  {
   "cell_type": "code",
   "execution_count": 81,
   "id": "b6cb5eb3",
   "metadata": {},
   "outputs": [
    {
     "data": {
      "text/plain": [
       "(6530,)"
      ]
     },
     "execution_count": 81,
     "metadata": {},
     "output_type": "execute_result"
    }
   ],
   "source": [
    "df.shape"
   ]
  },
  {
   "cell_type": "code",
   "execution_count": null,
   "id": "80ee16a3",
   "metadata": {},
   "outputs": [],
   "source": []
  },
  {
   "cell_type": "code",
   "execution_count": 82,
   "id": "e079dfd1",
   "metadata": {},
   "outputs": [],
   "source": [
    "x_train,x_test = train_test_split(df, test_size=0.20)"
   ]
  },
  {
   "cell_type": "code",
   "execution_count": null,
   "id": "328eede7",
   "metadata": {},
   "outputs": [],
   "source": []
  },
  {
   "cell_type": "code",
   "execution_count": 83,
   "id": "4eb73161",
   "metadata": {},
   "outputs": [
    {
     "data": {
      "text/plain": [
       "(5224,)"
      ]
     },
     "execution_count": 83,
     "metadata": {},
     "output_type": "execute_result"
    }
   ],
   "source": [
    "x_train.shape"
   ]
  },
  {
   "cell_type": "code",
   "execution_count": 84,
   "id": "7bfac5ca",
   "metadata": {},
   "outputs": [
    {
     "data": {
      "text/plain": [
       "(1306,)"
      ]
     },
     "execution_count": 84,
     "metadata": {},
     "output_type": "execute_result"
    }
   ],
   "source": [
    "x_test.shape"
   ]
  },
  {
   "cell_type": "code",
   "execution_count": 85,
   "id": "02089cfc",
   "metadata": {},
   "outputs": [],
   "source": [
    "n_features = 1\n",
    "n_inputs = 10"
   ]
  },
  {
   "cell_type": "code",
   "execution_count": 86,
   "id": "b8a6b7c1",
   "metadata": {},
   "outputs": [],
   "source": [
    "generator = TimeseriesGenerator(x_train,x_train,length= n_inputs, batch_size = 1)\n",
    "generator_test = TimeseriesGenerator(x_test,x_test,length=n_inputs, batch_size = 1)"
   ]
  },
  {
   "cell_type": "code",
   "execution_count": 87,
   "id": "1640aff7",
   "metadata": {},
   "outputs": [],
   "source": [
    "model = Sequential()\n",
    "model.add(SimpleRNN(units=100,input_shape=(n_inputs,n_features),activation = 'tanh'))\n",
    "model.add(Dense(units=1,activation='tanh'))"
   ]
  },
  {
   "cell_type": "code",
   "execution_count": 88,
   "id": "b829f9f7",
   "metadata": {},
   "outputs": [],
   "source": [
    "model.compile(optimizer = 'adam', loss = 'mean_squared_error', metrics = ['accuracy'])"
   ]
  },
  {
   "cell_type": "code",
   "execution_count": 89,
   "id": "90441cac",
   "metadata": {},
   "outputs": [
    {
     "name": "stdout",
     "output_type": "stream",
     "text": [
      "Epoch 1/3\n",
      "5214/5214 [==============================] - 16s 3ms/step - loss: 0.0832 - accuracy: 0.0104\n",
      "Epoch 2/3\n",
      "5214/5214 [==============================] - 14s 3ms/step - loss: 0.0793 - accuracy: 0.0104\n",
      "Epoch 3/3\n",
      "5214/5214 [==============================] - 14s 3ms/step - loss: 0.0788 - accuracy: 0.0104\n"
     ]
    }
   ],
   "source": [
    "history = model.fit(generator, epochs = 3)"
   ]
  },
  {
   "cell_type": "code",
   "execution_count": 95,
   "id": "803dd1e8",
   "metadata": {},
   "outputs": [
    {
     "name": "stdout",
     "output_type": "stream",
     "text": [
      "1296/1296 [==============================] - 3s 2ms/step - loss: 0.0791 - accuracy: 0.0000e+00\n"
     ]
    }
   ],
   "source": [
    "score = model.evaluate(generator_test)"
   ]
  },
  {
   "cell_type": "code",
   "execution_count": 96,
   "id": "7027c97c",
   "metadata": {},
   "outputs": [
    {
     "name": "stdout",
     "output_type": "stream",
     "text": [
      "[0.07909498363733292, 0.0]\n"
     ]
    }
   ],
   "source": [
    "print(score)"
   ]
  },
  {
   "cell_type": "code",
   "execution_count": 92,
   "id": "fd9acb87",
   "metadata": {},
   "outputs": [],
   "source": [
    "model = Sequential()\n",
    "model.add(LSTM(units=100,input_shape=(n_inputs,n_features),activation = 'tanh'))\n",
    "model.add(Dense(units=5,activation='tanh'))"
   ]
  },
  {
   "cell_type": "code",
   "execution_count": 94,
   "id": "c37c6709",
   "metadata": {},
   "outputs": [
    {
     "name": "stdout",
     "output_type": "stream",
     "text": [
      "Epoch 1/3\n",
      "5214/5214 [==============================] - 26s 4ms/step - loss: 0.0782 - accuracy: 5.7537e-04\n",
      "Epoch 2/3\n",
      "5214/5214 [==============================] - 25s 5ms/step - loss: 0.0782 - accuracy: 0.0013\n",
      "Epoch 3/3\n",
      "5214/5214 [==============================] - 23s 4ms/step - loss: 0.0780 - accuracy: 9.5896e-04\n",
      "1296/1296 [==============================] - 3s 2ms/step\n",
      "[[0.35075733 0.35095495 0.3508641  0.35117832 0.3507777 ]\n",
      " [0.3489417  0.34898135 0.3490862  0.3492129  0.34910458]\n",
      " [0.34739402 0.3473587  0.34766838 0.3475421  0.3478957 ]\n",
      " ...\n",
      " [0.34938514 0.34948593 0.34939978 0.3492199  0.34913576]\n",
      " [0.34561    0.345947   0.34584072 0.3458686  0.34606835]\n",
      " [0.34729987 0.34763643 0.3472959  0.34727603 0.34752786]]\n"
     ]
    }
   ],
   "source": [
    "model.compile(optimizer = 'adam', loss = 'mean_squared_error', metrics = ['accuracy'])\n",
    "history = model.fit(generator, epochs = 3)\n",
    "score = model.predict(generator_test)\n",
    "print(score)"
   ]
  },
  {
   "cell_type": "code",
   "execution_count": 66,
   "id": "06d43559",
   "metadata": {},
   "outputs": [],
   "source": [
    "model = Sequential()\n",
    "model.add(GRU(units=100,input_shape=(n_inputs,n_features),activation = 'tanh'))\n",
    "model.add(Dense(units=1,activation='tanh'))"
   ]
  },
  {
   "cell_type": "code",
   "execution_count": 67,
   "id": "76c8aec9",
   "metadata": {},
   "outputs": [
    {
     "name": "stdout",
     "output_type": "stream",
     "text": [
      "Epoch 1/3\n",
      "5214/5214 [==============================] - 30s 5ms/step - loss: 0.0809 - accuracy: 0.0109\n",
      "Epoch 2/3\n",
      "5214/5214 [==============================] - 27s 5ms/step - loss: 0.0797 - accuracy: 0.0111\n",
      "Epoch 3/3\n",
      "5214/5214 [==============================] - 32s 6ms/step - loss: 0.0791 - accuracy: 0.0111\n",
      "1296/1296 [==============================] - 5s 3ms/step\n",
      "[[0.33591193]\n",
      " [0.32007766]\n",
      " [0.33366218]\n",
      " ...\n",
      " [0.3301945 ]\n",
      " [0.3234475 ]\n",
      " [0.33234644]]\n"
     ]
    }
   ],
   "source": [
    "model.compile(optimizer = 'adam', loss = 'mean_squared_error', metrics = ['accuracy'])\n",
    "history = model.fit(generator, epochs = 3)\n",
    "score = model.predict(generator_test)\n",
    "print(score)"
   ]
  },
  {
   "cell_type": "code",
   "execution_count": null,
   "id": "c6bc5ae6",
   "metadata": {},
   "outputs": [],
   "source": []
  },
  {
   "cell_type": "code",
   "execution_count": null,
   "id": "28573619",
   "metadata": {},
   "outputs": [],
   "source": []
  },
  {
   "cell_type": "code",
   "execution_count": null,
   "id": "eb879b36",
   "metadata": {},
   "outputs": [],
   "source": []
  },
  {
   "cell_type": "code",
   "execution_count": null,
   "id": "8ac12393",
   "metadata": {},
   "outputs": [],
   "source": []
  },
  {
   "cell_type": "code",
   "execution_count": null,
   "id": "8485bda0",
   "metadata": {},
   "outputs": [],
   "source": []
  },
  {
   "cell_type": "code",
   "execution_count": null,
   "id": "848293a9",
   "metadata": {},
   "outputs": [],
   "source": []
  },
  {
   "cell_type": "code",
   "execution_count": null,
   "id": "0f56ed09",
   "metadata": {},
   "outputs": [],
   "source": []
  },
  {
   "cell_type": "code",
   "execution_count": 15,
   "id": "dce52e7a",
   "metadata": {},
   "outputs": [
    {
     "name": "stdout",
     "output_type": "stream",
     "text": [
      "398.2\n"
     ]
    }
   ],
   "source": []
  },
  {
   "cell_type": "code",
   "execution_count": null,
   "id": "4b6e5120",
   "metadata": {},
   "outputs": [],
   "source": []
  },
  {
   "cell_type": "code",
   "execution_count": null,
   "id": "ca59e3b0",
   "metadata": {},
   "outputs": [],
   "source": []
  },
  {
   "cell_type": "code",
   "execution_count": null,
   "id": "1ef4f00d",
   "metadata": {},
   "outputs": [],
   "source": []
  }
 ],
 "metadata": {
  "kernelspec": {
   "display_name": "Python 3 (ipykernel)",
   "language": "python",
   "name": "python3"
  },
  "language_info": {
   "codemirror_mode": {
    "name": "ipython",
    "version": 3
   },
   "file_extension": ".py",
   "mimetype": "text/x-python",
   "name": "python",
   "nbconvert_exporter": "python",
   "pygments_lexer": "ipython3",
   "version": "3.11.4"
  }
 },
 "nbformat": 4,
 "nbformat_minor": 5
}
